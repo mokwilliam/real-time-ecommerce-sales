{
 "cells": [
  {
   "cell_type": "markdown",
   "metadata": {},
   "source": [
    "# Notebook to visualize the data"
   ]
  },
  {
   "cell_type": "code",
   "execution_count": 1,
   "metadata": {},
   "outputs": [],
   "source": [
    "# Import the librairies\n",
    "from pandasql import sqldf\n",
    "import pandas as pd\n",
    "import matplotlib.pyplot as plt\n",
    "\n",
    "from gen_fake_data import get_fake_data, get_fake_product\n",
    "import process_data"
   ]
  },
  {
   "cell_type": "markdown",
   "metadata": {},
   "source": [
    "1) Connection to the database"
   ]
  },
  {
   "cell_type": "code",
   "execution_count": 2,
   "metadata": {},
   "outputs": [],
   "source": [
    "mydb = process_data.connect_database(\"e_commerce\")\n",
    "mycursor = mydb.cursor()"
   ]
  },
  {
   "cell_type": "markdown",
   "metadata": {},
   "source": [
    "2. Show the tables"
   ]
  },
  {
   "cell_type": "code",
   "execution_count": 3,
   "metadata": {},
   "outputs": [
    {
     "name": "stdout",
     "output_type": "stream",
     "text": [
      "('customers',)\n",
      "('orders',)\n",
      "('products',)\n"
     ]
    }
   ],
   "source": [
    "process_data.show_tables(mycursor)"
   ]
  },
  {
   "cell_type": "markdown",
   "metadata": {},
   "source": [
    "3. Get the tables"
   ]
  },
  {
   "cell_type": "code",
   "execution_count": 4,
   "metadata": {},
   "outputs": [
    {
     "name": "stderr",
     "output_type": "stream",
     "text": [
      "C:\\Users\\wmok\\AppData\\Local\\Temp\\ipykernel_16776\\2339937357.py:1: UserWarning: pandas only supports SQLAlchemy connectable (engine/connection) or database string URI or sqlite3 DBAPI2 connection. Other DBAPI2 objects are not tested. Please consider using SQLAlchemy.\n",
      "  df_products = pd.read_sql(\"SELECT * FROM products\", mydb)\n",
      "C:\\Users\\wmok\\AppData\\Local\\Temp\\ipykernel_16776\\2339937357.py:2: UserWarning: pandas only supports SQLAlchemy connectable (engine/connection) or database string URI or sqlite3 DBAPI2 connection. Other DBAPI2 objects are not tested. Please consider using SQLAlchemy.\n",
      "  df_customers = pd.read_sql(\"SELECT * FROM customers\", mydb)\n",
      "C:\\Users\\wmok\\AppData\\Local\\Temp\\ipykernel_16776\\2339937357.py:3: UserWarning: pandas only supports SQLAlchemy connectable (engine/connection) or database string URI or sqlite3 DBAPI2 connection. Other DBAPI2 objects are not tested. Please consider using SQLAlchemy.\n",
      "  df_orders = pd.read_sql(\"SELECT * FROM orders\", mydb)\n"
     ]
    }
   ],
   "source": [
    "df_products = pd.read_sql(\"SELECT * FROM products\", mydb)\n",
    "df_customers = pd.read_sql(\"SELECT * FROM customers\", mydb)\n",
    "df_orders = pd.read_sql(\"SELECT * FROM orders\", mydb)"
   ]
  },
  {
   "cell_type": "markdown",
   "metadata": {},
   "source": [
    "4. Perform analysis on products"
   ]
  },
  {
   "cell_type": "code",
   "execution_count": 5,
   "metadata": {},
   "outputs": [
    {
     "data": {
      "image/png": "[encoded data removed]",
      "text/plain": [
       "<Figure size 1600x500 with 1 Axes>"
      ]
     },
     "metadata": {},
     "output_type": "display_data"
    }
   ],
   "source": [
    "mean_price = df_products['price'].mean()\n",
    "\n",
    "plt.figure(figsize=(16, 5))\n",
    "plt.bar(df_products['name'], df_products['price'])\n",
    "plt.axhline(y=mean_price, color='red', linestyle='dashed', label=\"mean price\")\n",
    "plt.annotate(f\"y={round(mean_price, 2)}\", xy=(-1.1, mean_price * 1.01), color='black')\n",
    "plt.title(\"Products prices\")\n",
    "plt.legend()\n",
    "plt.show()"
   ]
  },
  {
   "cell_type": "code",
   "execution_count": 6,
   "metadata": {},
   "outputs": [
    {
     "data": {
      "text/html": [
       "<div>\n",
       "<style scoped>\n",
       "    .dataframe tbody tr th:only-of-type {\n",
       "        vertical-align: middle;\n",
       "    }\n",
       "\n",
       "    .dataframe tbody tr th {\n",
       "        vertical-align: top;\n",
       "    }\n",
       "\n",
       "    .dataframe thead th {\n",
       "        text-align: right;\n",
       "    }\n",
       "</style>\n",
       "<table border=\"1\" class=\"dataframe\">\n",
       "  <thead>\n",
       "    <tr style=\"text-align: right;\">\n",
       "      <th></th>\n",
       "      <th>order_id</th>\n",
       "      <th>order_date</th>\n",
       "      <th>quantity</th>\n",
       "      <th>bill</th>\n",
       "      <th>customer_id</th>\n",
       "      <th>product_id</th>\n",
       "    </tr>\n",
       "  </thead>\n",
       "  <tbody>\n",
       "    <tr>\n",
       "      <th>0</th>\n",
       "      <td>1</td>\n",
       "      <td>2023-10-04</td>\n",
       "      <td>1</td>\n",
       "      <td>19.50</td>\n",
       "      <td>1</td>\n",
       "      <td>7</td>\n",
       "    </tr>\n",
       "    <tr>\n",
       "      <th>1</th>\n",
       "      <td>2</td>\n",
       "      <td>2023-10-04</td>\n",
       "      <td>1</td>\n",
       "      <td>20.51</td>\n",
       "      <td>2</td>\n",
       "      <td>14</td>\n",
       "    </tr>\n",
       "    <tr>\n",
       "      <th>2</th>\n",
       "      <td>3</td>\n",
       "      <td>2023-10-04</td>\n",
       "      <td>1</td>\n",
       "      <td>20.37</td>\n",
       "      <td>3</td>\n",
       "      <td>18</td>\n",
       "    </tr>\n",
       "    <tr>\n",
       "      <th>3</th>\n",
       "      <td>4</td>\n",
       "      <td>2023-10-04</td>\n",
       "      <td>5</td>\n",
       "      <td>39.50</td>\n",
       "      <td>4</td>\n",
       "      <td>17</td>\n",
       "    </tr>\n",
       "    <tr>\n",
       "      <th>4</th>\n",
       "      <td>5</td>\n",
       "      <td>2023-10-04</td>\n",
       "      <td>5</td>\n",
       "      <td>222.10</td>\n",
       "      <td>5</td>\n",
       "      <td>2</td>\n",
       "    </tr>\n",
       "  </tbody>\n",
       "</table>\n",
       "</div>"
      ],
      "text/plain": [
       "   order_id  order_date  quantity    bill  customer_id  product_id\n",
       "0         1  2023-10-04         1   19.50            1           7\n",
       "1         2  2023-10-04         1   20.51            2          14\n",
       "2         3  2023-10-04         1   20.37            3          18\n",
       "3         4  2023-10-04         5   39.50            4          17\n",
       "4         5  2023-10-04         5  222.10            5           2"
      ]
     },
     "execution_count": 6,
     "metadata": {},
     "output_type": "execute_result"
    }
   ],
   "source": [
    "df_orders"
   ]
  },
  {
   "cell_type": "code",
   "execution_count": 7,
   "metadata": {},
   "outputs": [
    {
     "data": {
      "text/html": [
       "<div>\n",
       "<style scoped>\n",
       "    .dataframe tbody tr th:only-of-type {\n",
       "        vertical-align: middle;\n",
       "    }\n",
       "\n",
       "    .dataframe tbody tr th {\n",
       "        vertical-align: top;\n",
       "    }\n",
       "\n",
       "    .dataframe thead th {\n",
       "        text-align: right;\n",
       "    }\n",
       "</style>\n",
       "<table border=\"1\" class=\"dataframe\">\n",
       "  <thead>\n",
       "    <tr style=\"text-align: right;\">\n",
       "      <th></th>\n",
       "      <th>customer_id</th>\n",
       "      <th>name</th>\n",
       "      <th>address</th>\n",
       "      <th>email</th>\n",
       "      <th>phone_number</th>\n",
       "      <th>country</th>\n",
       "    </tr>\n",
       "  </thead>\n",
       "  <tbody>\n",
       "    <tr>\n",
       "      <th>0</th>\n",
       "      <td>1</td>\n",
       "      <td>Dr Julian Evans</td>\n",
       "      <td>1 McCarthy mountains, South Danieltown, E60 5SL</td>\n",
       "      <td>gregoryvictoria@example.org</td>\n",
       "      <td>+44909 8790299</td>\n",
       "      <td>Saint Lucia</td>\n",
       "    </tr>\n",
       "    <tr>\n",
       "      <th>1</th>\n",
       "      <td>2</td>\n",
       "      <td>Carl Goddard</td>\n",
       "      <td>581 Sims forest, East Julia, DY37 4PB</td>\n",
       "      <td>gtaylor@example.net</td>\n",
       "      <td>+44(0)20 74960421</td>\n",
       "      <td>Gabon</td>\n",
       "    </tr>\n",
       "    <tr>\n",
       "      <th>2</th>\n",
       "      <td>3</td>\n",
       "      <td>Max Thomas</td>\n",
       "      <td>Flat 84, Roberts springs, Daviston, W35 8QD</td>\n",
       "      <td>lindseywright@example.org</td>\n",
       "      <td>+441914960306</td>\n",
       "      <td>Lesotho</td>\n",
       "    </tr>\n",
       "    <tr>\n",
       "      <th>3</th>\n",
       "      <td>4</td>\n",
       "      <td>Gordon Buckley</td>\n",
       "      <td>577 Alice way, New Paige, M4 2FW</td>\n",
       "      <td>caroleturner@example.net</td>\n",
       "      <td>01914960399</td>\n",
       "      <td>Cocos (Keeling) Islands</td>\n",
       "    </tr>\n",
       "    <tr>\n",
       "      <th>4</th>\n",
       "      <td>5</td>\n",
       "      <td>Joanne Williams-Jones</td>\n",
       "      <td>23 Taylor crest, West Hilaryburgh, LN4 8NN</td>\n",
       "      <td>hazel53@example.org</td>\n",
       "      <td>+44(0)1614960028</td>\n",
       "      <td>Iceland</td>\n",
       "    </tr>\n",
       "  </tbody>\n",
       "</table>\n",
       "</div>"
      ],
      "text/plain": [
       "   customer_id                   name  \\\n",
       "0            1        Dr Julian Evans   \n",
       "1            2           Carl Goddard   \n",
       "2            3             Max Thomas   \n",
       "3            4         Gordon Buckley   \n",
       "4            5  Joanne Williams-Jones   \n",
       "\n",
       "                                           address  \\\n",
       "0  1 McCarthy mountains, South Danieltown, E60 5SL   \n",
       "1            581 Sims forest, East Julia, DY37 4PB   \n",
       "2      Flat 84, Roberts springs, Daviston, W35 8QD   \n",
       "3                 577 Alice way, New Paige, M4 2FW   \n",
       "4       23 Taylor crest, West Hilaryburgh, LN4 8NN   \n",
       "\n",
       "                         email       phone_number                  country  \n",
       "0  gregoryvictoria@example.org     +44909 8790299              Saint Lucia  \n",
       "1          gtaylor@example.net  +44(0)20 74960421                    Gabon  \n",
       "2    lindseywright@example.org      +441914960306                  Lesotho  \n",
       "3     caroleturner@example.net        01914960399  Cocos (Keeling) Islands  \n",
       "4          hazel53@example.org   +44(0)1614960028                  Iceland  "
      ]
     },
     "execution_count": 7,
     "metadata": {},
     "output_type": "execute_result"
    }
   ],
   "source": [
    "df_customers"
   ]
  },
  {
   "cell_type": "markdown",
   "metadata": {},
   "source": [
    "### SQLite Syntax\n",
    "Website: https://www.sqlite.org/lang.html"
   ]
  },
  {
   "cell_type": "code",
   "execution_count": 8,
   "metadata": {},
   "outputs": [],
   "source": [
    "q = \"\"\"\n",
    "SELECT df_customers.name AS customer_name, df_products.name AS product_name, bill, df_products.price AS unit_price, quantity\n",
    "FROM df_orders, df_customers, df_products\n",
    "WHERE df_orders.customer_id = df_customers.customer_id AND df_orders.product_id = df_products.product_id\n",
    "\"\"\""
   ]
  },
  {
   "cell_type": "code",
   "execution_count": 9,
   "metadata": {},
   "outputs": [
    {
     "data": {
      "text/html": [
       "<div>\n",
       "<style scoped>\n",
       "    .dataframe tbody tr th:only-of-type {\n",
       "        vertical-align: middle;\n",
       "    }\n",
       "\n",
       "    .dataframe tbody tr th {\n",
       "        vertical-align: top;\n",
       "    }\n",
       "\n",
       "    .dataframe thead th {\n",
       "        text-align: right;\n",
       "    }\n",
       "</style>\n",
       "<table border=\"1\" class=\"dataframe\">\n",
       "  <thead>\n",
       "    <tr style=\"text-align: right;\">\n",
       "      <th></th>\n",
       "      <th>customer_name</th>\n",
       "      <th>product_name</th>\n",
       "      <th>bill</th>\n",
       "      <th>unit_price</th>\n",
       "      <th>quantity</th>\n",
       "    </tr>\n",
       "  </thead>\n",
       "  <tbody>\n",
       "    <tr>\n",
       "      <th>0</th>\n",
       "      <td>Dr Julian Evans</td>\n",
       "      <td>skirt</td>\n",
       "      <td>19.50</td>\n",
       "      <td>19.50</td>\n",
       "      <td>1</td>\n",
       "    </tr>\n",
       "    <tr>\n",
       "      <th>1</th>\n",
       "      <td>Carl Goddard</td>\n",
       "      <td>table</td>\n",
       "      <td>20.51</td>\n",
       "      <td>20.51</td>\n",
       "      <td>1</td>\n",
       "    </tr>\n",
       "    <tr>\n",
       "      <th>2</th>\n",
       "      <td>Max Thomas</td>\n",
       "      <td>sofa</td>\n",
       "      <td>20.37</td>\n",
       "      <td>20.37</td>\n",
       "      <td>1</td>\n",
       "    </tr>\n",
       "    <tr>\n",
       "      <th>3</th>\n",
       "      <td>Gordon Buckley</td>\n",
       "      <td>coat</td>\n",
       "      <td>39.50</td>\n",
       "      <td>7.90</td>\n",
       "      <td>5</td>\n",
       "    </tr>\n",
       "    <tr>\n",
       "      <th>4</th>\n",
       "      <td>Joanne Williams-Jones</td>\n",
       "      <td>shorts</td>\n",
       "      <td>222.10</td>\n",
       "      <td>44.42</td>\n",
       "      <td>5</td>\n",
       "    </tr>\n",
       "  </tbody>\n",
       "</table>\n",
       "</div>"
      ],
      "text/plain": [
       "           customer_name product_name    bill  unit_price  quantity\n",
       "0        Dr Julian Evans        skirt   19.50       19.50         1\n",
       "1           Carl Goddard        table   20.51       20.51         1\n",
       "2             Max Thomas         sofa   20.37       20.37         1\n",
       "3         Gordon Buckley         coat   39.50        7.90         5\n",
       "4  Joanne Williams-Jones       shorts  222.10       44.42         5"
      ]
     },
     "execution_count": 9,
     "metadata": {},
     "output_type": "execute_result"
    }
   ],
   "source": [
    "test = sqldf(q)\n",
    "test"
   ]
  }
 ],
 "metadata": {
  "kernelspec": {
   "display_name": "e-commerce-S9g6Jxv1-py3.10",
   "language": "python",
   "name": "python3"
  },
  "language_info": {
   "codemirror_mode": {
    "name": "ipython",
    "version": 3
   },
   "file_extension": ".py",
   "mimetype": "text/x-python",
   "name": "python",
   "nbconvert_exporter": "python",
   "pygments_lexer": "ipython3",
   "version": "3.11.2"
  },
  "orig_nbformat": 4
 },
 "nbformat": 4,
 "nbformat_minor": 2
}
