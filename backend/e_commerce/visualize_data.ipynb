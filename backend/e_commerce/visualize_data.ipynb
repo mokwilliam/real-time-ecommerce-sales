{
 "cells": [
  {
   "cell_type": "markdown",
   "metadata": {},
   "source": [
    "# Notebook to visualize the data"
   ]
  },
  {
   "cell_type": "code",
   "execution_count": 27,
   "metadata": {},
   "outputs": [],
   "source": [
    "# Import the librairies\n",
    "from pandasql import sqldf\n",
    "import pandas as pd\n",
    "import matplotlib.pyplot as plt\n",
    "\n",
    "from gen_fake_data import get_fake_data, get_fake_product\n",
    "import process_data"
   ]
  },
  {
   "cell_type": "markdown",
   "metadata": {},
   "source": [
    "1) Connection to the database"
   ]
  },
  {
   "cell_type": "code",
   "execution_count": null,
   "metadata": {},
   "outputs": [],
   "source": [
    "mydb = process_data.connect_to_db()\n",
    "mycursor = mydb.cursor()"
   ]
  },
  {
   "cell_type": "markdown",
   "metadata": {},
   "source": [
    "2. Show the tables"
   ]
  },
  {
   "cell_type": "code",
   "execution_count": null,
   "metadata": {},
   "outputs": [],
   "source": [
    "process_data.show_tables(mycursor)"
   ]
  },
  {
   "cell_type": "markdown",
   "metadata": {},
   "source": [
    "3. Get the tables"
   ]
  },
  {
   "cell_type": "code",
   "execution_count": null,
   "metadata": {},
   "outputs": [],
   "source": [
    "df_products = pd.read_sql(\"SELECT * FROM products\", mydb)\n",
    "df_customers = pd.read_sql(\"SELECT * FROM customers\", mydb)\n",
    "df_orders = pd.read_sql(\"SELECT * FROM orders\", mydb)"
   ]
  },
  {
   "cell_type": "markdown",
   "metadata": {},
   "source": [
    "4. Perform analysis on products"
   ]
  },
  {
   "cell_type": "code",
   "execution_count": null,
   "metadata": {},
   "outputs": [],
   "source": [
    "plt.figure()\n",
    "plt.bar(df_products['name'], df_products['price'])\n",
    "plt.show()"
   ]
  },
  {
   "cell_type": "code",
   "execution_count": 2,
   "metadata": {},
   "outputs": [],
   "source": [
    "n_samples = 4\n",
    "data = {iter: get_fake_data() for iter in range(n_samples)}"
   ]
  },
  {
   "cell_type": "markdown",
   "metadata": {},
   "source": [
    "Show data without any transformation"
   ]
  },
  {
   "cell_type": "code",
   "execution_count": 25,
   "metadata": {},
   "outputs": [
    {
     "data": {
      "text/plain": [
       "'970 Birch meadow, Lake Maureen, E6S 1GY'"
      ]
     },
     "execution_count": 25,
     "metadata": {},
     "output_type": "execute_result"
    }
   ],
   "source": [
    "data[0][0][\"address\"].replace(\"\\n\", \", \")"
   ]
  },
  {
   "cell_type": "markdown",
   "metadata": {},
   "source": [
    "Store data in a DataFrame"
   ]
  },
  {
   "cell_type": "code",
   "execution_count": 4,
   "metadata": {},
   "outputs": [
    {
     "data": {
      "text/html": [
       "<div>\n",
       "<style scoped>\n",
       "    .dataframe tbody tr th:only-of-type {\n",
       "        vertical-align: middle;\n",
       "    }\n",
       "\n",
       "    .dataframe tbody tr th {\n",
       "        vertical-align: top;\n",
       "    }\n",
       "\n",
       "    .dataframe thead th {\n",
       "        text-align: right;\n",
       "    }\n",
       "</style>\n",
       "<table border=\"1\" class=\"dataframe\">\n",
       "  <thead>\n",
       "    <tr style=\"text-align: right;\">\n",
       "      <th></th>\n",
       "      <th>0</th>\n",
       "      <th>1</th>\n",
       "      <th>2</th>\n",
       "      <th>3</th>\n",
       "    </tr>\n",
       "  </thead>\n",
       "  <tbody>\n",
       "    <tr>\n",
       "      <th>customer</th>\n",
       "      <td>{'name': 'Suzanne Wood-Hudson', 'address': '97...</td>\n",
       "      <td>{'name': 'Anthony Russell', 'address': '02 Der...</td>\n",
       "      <td>{'name': 'Dr Vincent Singh', 'address': 'Flat ...</td>\n",
       "      <td>{'name': 'Alison Smith', 'address': 'Flat 51j\n",
       "...</td>\n",
       "    </tr>\n",
       "    <tr>\n",
       "      <th>order</th>\n",
       "      <td>{'order_date': '2023-10-02 16:08:27', 'quantit...</td>\n",
       "      <td>{'order_date': '2023-10-02 16:08:27', 'quantit...</td>\n",
       "      <td>{'order_date': '2023-10-02 16:08:28', 'quantit...</td>\n",
       "      <td>{'order_date': '2023-10-02 16:08:28', 'quantit...</td>\n",
       "    </tr>\n",
       "  </tbody>\n",
       "</table>\n",
       "</div>"
      ],
      "text/plain": [
       "                                                          0  \\\n",
       "customer  {'name': 'Suzanne Wood-Hudson', 'address': '97...   \n",
       "order     {'order_date': '2023-10-02 16:08:27', 'quantit...   \n",
       "\n",
       "                                                          1  \\\n",
       "customer  {'name': 'Anthony Russell', 'address': '02 Der...   \n",
       "order     {'order_date': '2023-10-02 16:08:27', 'quantit...   \n",
       "\n",
       "                                                          2  \\\n",
       "customer  {'name': 'Dr Vincent Singh', 'address': 'Flat ...   \n",
       "order     {'order_date': '2023-10-02 16:08:28', 'quantit...   \n",
       "\n",
       "                                                          3  \n",
       "customer  {'name': 'Alison Smith', 'address': 'Flat 51j\n",
       "...  \n",
       "order     {'order_date': '2023-10-02 16:08:28', 'quantit...  "
      ]
     },
     "execution_count": 4,
     "metadata": {},
     "output_type": "execute_result"
    }
   ],
   "source": [
    "df_all = pd.DataFrame(data, index=['customer', 'order'])\n",
    "df_all"
   ]
  },
  {
   "cell_type": "code",
   "execution_count": 5,
   "metadata": {},
   "outputs": [
    {
     "data": {
      "text/html": [
       "<div>\n",
       "<style scoped>\n",
       "    .dataframe tbody tr th:only-of-type {\n",
       "        vertical-align: middle;\n",
       "    }\n",
       "\n",
       "    .dataframe tbody tr th {\n",
       "        vertical-align: top;\n",
       "    }\n",
       "\n",
       "    .dataframe thead th {\n",
       "        text-align: right;\n",
       "    }\n",
       "</style>\n",
       "<table border=\"1\" class=\"dataframe\">\n",
       "  <thead>\n",
       "    <tr style=\"text-align: right;\">\n",
       "      <th></th>\n",
       "      <th>name</th>\n",
       "      <th>address</th>\n",
       "      <th>email</th>\n",
       "      <th>phone_number</th>\n",
       "      <th>country</th>\n",
       "    </tr>\n",
       "  </thead>\n",
       "  <tbody>\n",
       "    <tr>\n",
       "      <th>customer</th>\n",
       "      <td>Suzanne Wood-Hudson</td>\n",
       "      <td>970 Birch meadow\\nLake Maureen\\nE6S 1GY</td>\n",
       "      <td>louisekelly@example.org</td>\n",
       "      <td>+44118 496 0025</td>\n",
       "      <td>Albania</td>\n",
       "    </tr>\n",
       "  </tbody>\n",
       "</table>\n",
       "</div>"
      ],
      "text/plain": [
       "                         name                                  address  \\\n",
       "customer  Suzanne Wood-Hudson  970 Birch meadow\\nLake Maureen\\nE6S 1GY   \n",
       "\n",
       "                            email     phone_number  country  \n",
       "customer  louisekelly@example.org  +44118 496 0025  Albania  "
      ]
     },
     "execution_count": 5,
     "metadata": {},
     "output_type": "execute_result"
    }
   ],
   "source": [
    "customer = data[0][0]\n",
    "order = data[0][1]\n",
    "df_customer = pd.DataFrame(customer, index=['customer'])\n",
    "df_customer"
   ]
  },
  {
   "cell_type": "code",
   "execution_count": 6,
   "metadata": {},
   "outputs": [
    {
     "data": {
      "text/html": [
       "<div>\n",
       "<style scoped>\n",
       "    .dataframe tbody tr th:only-of-type {\n",
       "        vertical-align: middle;\n",
       "    }\n",
       "\n",
       "    .dataframe tbody tr th {\n",
       "        vertical-align: top;\n",
       "    }\n",
       "\n",
       "    .dataframe thead th {\n",
       "        text-align: right;\n",
       "    }\n",
       "</style>\n",
       "<table border=\"1\" class=\"dataframe\">\n",
       "  <thead>\n",
       "    <tr style=\"text-align: right;\">\n",
       "      <th></th>\n",
       "      <th>order_date</th>\n",
       "      <th>quantity</th>\n",
       "      <th>product</th>\n",
       "      <th>name</th>\n",
       "    </tr>\n",
       "  </thead>\n",
       "  <tbody>\n",
       "    <tr>\n",
       "      <th>order</th>\n",
       "      <td>2023-10-02 16:08:27</td>\n",
       "      <td>4</td>\n",
       "      <td>sofa</td>\n",
       "      <td>Miss June Harris</td>\n",
       "    </tr>\n",
       "  </tbody>\n",
       "</table>\n",
       "</div>"
      ],
      "text/plain": [
       "                order_date  quantity product              name\n",
       "order  2023-10-02 16:08:27         4    sofa  Miss June Harris"
      ]
     },
     "execution_count": 6,
     "metadata": {},
     "output_type": "execute_result"
    }
   ],
   "source": [
    "df_order = pd.DataFrame(order, index=['order'])\n",
    "df_order"
   ]
  },
  {
   "cell_type": "code",
   "execution_count": 7,
   "metadata": {},
   "outputs": [
    {
     "data": {
      "text/plain": [
       "[{'name': 'table',\n",
       "  'price': 0.7,\n",
       "  'description': 'Veritatis in fugiat sint sunt consequatur iusto.\\nFugit sint quis voluptates ipsum quo voluptas. Id quasi laboriosam beatae nostrum dolore laborum.'},\n",
       " {'name': 'bed',\n",
       "  'price': 0.1,\n",
       "  'description': 'In nostrum accusantium vitae quidem optio ad a. Doloremque architecto numquam vitae aperiam dignissimos.'},\n",
       " {'name': 'chair',\n",
       "  'price': 0.37,\n",
       "  'description': 'Necessitatibus accusamus sequi quam. Reprehenderit aut recusandae nulla necessitatibus blanditiis.\\nEveniet quibusdam aperiam pariatur quia eaque iure.'}]"
      ]
     },
     "execution_count": 7,
     "metadata": {},
     "output_type": "execute_result"
    }
   ],
   "source": [
    "fake_products = [get_fake_product() for _ in range(3)]\n",
    "fake_products"
   ]
  },
  {
   "cell_type": "code",
   "execution_count": 9,
   "metadata": {},
   "outputs": [
    {
     "data": {
      "text/html": [
       "<div>\n",
       "<style scoped>\n",
       "    .dataframe tbody tr th:only-of-type {\n",
       "        vertical-align: middle;\n",
       "    }\n",
       "\n",
       "    .dataframe tbody tr th {\n",
       "        vertical-align: top;\n",
       "    }\n",
       "\n",
       "    .dataframe thead th {\n",
       "        text-align: right;\n",
       "    }\n",
       "</style>\n",
       "<table border=\"1\" class=\"dataframe\">\n",
       "  <thead>\n",
       "    <tr style=\"text-align: right;\">\n",
       "      <th></th>\n",
       "      <th>name</th>\n",
       "      <th>price</th>\n",
       "      <th>description</th>\n",
       "    </tr>\n",
       "  </thead>\n",
       "  <tbody>\n",
       "    <tr>\n",
       "      <th>product_1</th>\n",
       "      <td>table</td>\n",
       "      <td>0.70</td>\n",
       "      <td>Veritatis in fugiat sint sunt consequatur iust...</td>\n",
       "    </tr>\n",
       "    <tr>\n",
       "      <th>product_2</th>\n",
       "      <td>bed</td>\n",
       "      <td>0.10</td>\n",
       "      <td>In nostrum accusantium vitae quidem optio ad a...</td>\n",
       "    </tr>\n",
       "    <tr>\n",
       "      <th>product_3</th>\n",
       "      <td>chair</td>\n",
       "      <td>0.37</td>\n",
       "      <td>Necessitatibus accusamus sequi quam. Reprehend...</td>\n",
       "    </tr>\n",
       "  </tbody>\n",
       "</table>\n",
       "</div>"
      ],
      "text/plain": [
       "            name  price                                        description\n",
       "product_1  table   0.70  Veritatis in fugiat sint sunt consequatur iust...\n",
       "product_2    bed   0.10  In nostrum accusantium vitae quidem optio ad a...\n",
       "product_3  chair   0.37  Necessitatibus accusamus sequi quam. Reprehend..."
      ]
     },
     "execution_count": 9,
     "metadata": {},
     "output_type": "execute_result"
    }
   ],
   "source": [
    "df_products = pd.DataFrame(fake_products, index=[f\"product_{i+1}\" for i in range(len(fake_products))])\n",
    "df_products"
   ]
  },
  {
   "cell_type": "markdown",
   "metadata": {},
   "source": [
    "### SQLite Syntax\n",
    "Website: https://www.sqlite.org/lang.html"
   ]
  },
  {
   "cell_type": "code",
   "execution_count": 10,
   "metadata": {},
   "outputs": [],
   "source": [
    "q = \"\"\"\n",
    "SELECT *\n",
    "FROM df_customer\n",
    "WHERE country = 'Palestinian Territory'\n",
    "\"\"\""
   ]
  },
  {
   "cell_type": "code",
   "execution_count": 11,
   "metadata": {},
   "outputs": [
    {
     "data": {
      "text/html": [
       "<div>\n",
       "<style scoped>\n",
       "    .dataframe tbody tr th:only-of-type {\n",
       "        vertical-align: middle;\n",
       "    }\n",
       "\n",
       "    .dataframe tbody tr th {\n",
       "        vertical-align: top;\n",
       "    }\n",
       "\n",
       "    .dataframe thead th {\n",
       "        text-align: right;\n",
       "    }\n",
       "</style>\n",
       "<table border=\"1\" class=\"dataframe\">\n",
       "  <thead>\n",
       "    <tr style=\"text-align: right;\">\n",
       "      <th></th>\n",
       "      <th>name</th>\n",
       "      <th>address</th>\n",
       "      <th>email</th>\n",
       "      <th>phone_number</th>\n",
       "      <th>country</th>\n",
       "    </tr>\n",
       "  </thead>\n",
       "  <tbody>\n",
       "  </tbody>\n",
       "</table>\n",
       "</div>"
      ],
      "text/plain": [
       "Empty DataFrame\n",
       "Columns: [name, address, email, phone_number, country]\n",
       "Index: []"
      ]
     },
     "execution_count": 11,
     "metadata": {},
     "output_type": "execute_result"
    }
   ],
   "source": [
    "test = sqldf(q)\n",
    "test"
   ]
  },
  {
   "cell_type": "code",
   "execution_count": null,
   "metadata": {},
   "outputs": [],
   "source": []
  }
 ],
 "metadata": {
  "kernelspec": {
   "display_name": "e-commerce-S9g6Jxv1-py3.10",
   "language": "python",
   "name": "python3"
  },
  "language_info": {
   "codemirror_mode": {
    "name": "ipython",
    "version": 3
   },
   "file_extension": ".py",
   "mimetype": "text/x-python",
   "name": "python",
   "nbconvert_exporter": "python",
   "pygments_lexer": "ipython3",
   "version": "3.11.2"
  },
  "orig_nbformat": 4
 },
 "nbformat": 4,
 "nbformat_minor": 2
}
