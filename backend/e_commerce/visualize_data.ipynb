{
 "cells": [
  {
   "cell_type": "code",
   "execution_count": 1,
   "metadata": {},
   "outputs": [],
   "source": [
    "from gen_fake_data import get_fake_data\n",
    "from process_data import transform_data\n",
    "import pandas as pd\n",
    "from pandasql import sqldf"
   ]
  },
  {
   "cell_type": "code",
   "execution_count": 2,
   "metadata": {},
   "outputs": [],
   "source": [
    "# Generation of the data\n",
    "n_samples = 10\n",
    "data = [get_fake_data() for _ in range(n_samples)]"
   ]
  },
  {
   "cell_type": "code",
   "execution_count": 3,
   "metadata": {},
   "outputs": [],
   "source": [
    "# Show data without any transformation\n",
    "# data"
   ]
  },
  {
   "cell_type": "code",
   "execution_count": 4,
   "metadata": {},
   "outputs": [
    {
     "data": {
      "text/html": [
       "<div>\n",
       "<style scoped>\n",
       "    .dataframe tbody tr th:only-of-type {\n",
       "        vertical-align: middle;\n",
       "    }\n",
       "\n",
       "    .dataframe tbody tr th {\n",
       "        vertical-align: top;\n",
       "    }\n",
       "\n",
       "    .dataframe thead th {\n",
       "        text-align: right;\n",
       "    }\n",
       "</style>\n",
       "<table border=\"1\" class=\"dataframe\">\n",
       "  <thead>\n",
       "    <tr style=\"text-align: right;\">\n",
       "      <th></th>\n",
       "      <th>name</th>\n",
       "      <th>address</th>\n",
       "      <th>email</th>\n",
       "      <th>phone_number</th>\n",
       "      <th>country</th>\n",
       "    </tr>\n",
       "  </thead>\n",
       "  <tbody>\n",
       "    <tr>\n",
       "      <th>0</th>\n",
       "      <td>Mr Geoffrey Gardiner</td>\n",
       "      <td>3 Bell mountain\\nEvansshire\\nS8 7PU</td>\n",
       "      <td>suzanne89@example.org</td>\n",
       "      <td>+44113 4960017</td>\n",
       "      <td>Libyan Arab Jamahiriya</td>\n",
       "    </tr>\n",
       "    <tr>\n",
       "      <th>1</th>\n",
       "      <td>Holly O'Connor</td>\n",
       "      <td>Studio 53\\nO'Neill creek\\nNew Bryanland\\nL4E 7XN</td>\n",
       "      <td>jameslinda@example.org</td>\n",
       "      <td>(0161) 496 0152</td>\n",
       "      <td>Zimbabwe</td>\n",
       "    </tr>\n",
       "    <tr>\n",
       "      <th>2</th>\n",
       "      <td>Reece Begum-Davies</td>\n",
       "      <td>3 David ridges\\nRosefort\\nSK6W 7WN</td>\n",
       "      <td>kenneth10@example.net</td>\n",
       "      <td>(0808)1570999</td>\n",
       "      <td>Djibouti</td>\n",
       "    </tr>\n",
       "    <tr>\n",
       "      <th>3</th>\n",
       "      <td>Mathew Clements</td>\n",
       "      <td>58 Kathryn pike\\nLake Nigelborough\\nDD3B 7RN</td>\n",
       "      <td>leonardhenderson@example.com</td>\n",
       "      <td>+4420 74960644</td>\n",
       "      <td>Fiji</td>\n",
       "    </tr>\n",
       "    <tr>\n",
       "      <th>4</th>\n",
       "      <td>Amber Henderson</td>\n",
       "      <td>4 Barbara locks\\nWest Benview\\nLS0N 2TR</td>\n",
       "      <td>cartereleanor@example.net</td>\n",
       "      <td>+44306 999 0926</td>\n",
       "      <td>Nigeria</td>\n",
       "    </tr>\n",
       "    <tr>\n",
       "      <th>5</th>\n",
       "      <td>Samuel Morris</td>\n",
       "      <td>Flat 82\\nHugh turnpike\\nCherylstad\\nN10 7WU</td>\n",
       "      <td>kirbykaren@example.net</td>\n",
       "      <td>(0191) 4960820</td>\n",
       "      <td>New Caledonia</td>\n",
       "    </tr>\n",
       "    <tr>\n",
       "      <th>6</th>\n",
       "      <td>Jane Francis-Elliott</td>\n",
       "      <td>Flat 9\\nJean motorway\\nLake Dianeside\\nB0W 5LJ</td>\n",
       "      <td>conwayfrancis@example.org</td>\n",
       "      <td>+44(0)20 74960355</td>\n",
       "      <td>Myanmar</td>\n",
       "    </tr>\n",
       "    <tr>\n",
       "      <th>7</th>\n",
       "      <td>Karl Lloyd</td>\n",
       "      <td>Studio 23N\\nMarian parkway\\nStanleyfort\\nE48 8NZ</td>\n",
       "      <td>normanlynch@example.net</td>\n",
       "      <td>(0909) 879 0224</td>\n",
       "      <td>Kyrgyz Republic</td>\n",
       "    </tr>\n",
       "    <tr>\n",
       "      <th>8</th>\n",
       "      <td>Kerry Whitehead</td>\n",
       "      <td>61 Gillian corner\\nHewittfort\\nW43 9ZZ</td>\n",
       "      <td>callum69@example.org</td>\n",
       "      <td>+441632 960113</td>\n",
       "      <td>French Polynesia</td>\n",
       "    </tr>\n",
       "    <tr>\n",
       "      <th>9</th>\n",
       "      <td>Marilyn Pearce</td>\n",
       "      <td>Studio 24\\nFrank wells\\nPort Danny\\nS01 1EU</td>\n",
       "      <td>llynch@example.net</td>\n",
       "      <td>+44(0)118 496 0610</td>\n",
       "      <td>Wallis and Futuna</td>\n",
       "    </tr>\n",
       "  </tbody>\n",
       "</table>\n",
       "</div>"
      ],
      "text/plain": [
       "                   name                                           address  \\\n",
       "0  Mr Geoffrey Gardiner               3 Bell mountain\\nEvansshire\\nS8 7PU   \n",
       "1        Holly O'Connor  Studio 53\\nO'Neill creek\\nNew Bryanland\\nL4E 7XN   \n",
       "2    Reece Begum-Davies                3 David ridges\\nRosefort\\nSK6W 7WN   \n",
       "3       Mathew Clements      58 Kathryn pike\\nLake Nigelborough\\nDD3B 7RN   \n",
       "4       Amber Henderson           4 Barbara locks\\nWest Benview\\nLS0N 2TR   \n",
       "5         Samuel Morris       Flat 82\\nHugh turnpike\\nCherylstad\\nN10 7WU   \n",
       "6  Jane Francis-Elliott    Flat 9\\nJean motorway\\nLake Dianeside\\nB0W 5LJ   \n",
       "7            Karl Lloyd  Studio 23N\\nMarian parkway\\nStanleyfort\\nE48 8NZ   \n",
       "8       Kerry Whitehead            61 Gillian corner\\nHewittfort\\nW43 9ZZ   \n",
       "9        Marilyn Pearce       Studio 24\\nFrank wells\\nPort Danny\\nS01 1EU   \n",
       "\n",
       "                          email        phone_number                 country  \n",
       "0         suzanne89@example.org      +44113 4960017  Libyan Arab Jamahiriya  \n",
       "1        jameslinda@example.org     (0161) 496 0152                Zimbabwe  \n",
       "2         kenneth10@example.net       (0808)1570999                Djibouti  \n",
       "3  leonardhenderson@example.com      +4420 74960644                    Fiji  \n",
       "4     cartereleanor@example.net     +44306 999 0926                 Nigeria  \n",
       "5        kirbykaren@example.net      (0191) 4960820           New Caledonia  \n",
       "6     conwayfrancis@example.org   +44(0)20 74960355                 Myanmar  \n",
       "7       normanlynch@example.net     (0909) 879 0224         Kyrgyz Republic  \n",
       "8          callum69@example.org      +441632 960113        French Polynesia  \n",
       "9            llynch@example.net  +44(0)118 496 0610       Wallis and Futuna  "
      ]
     },
     "execution_count": 4,
     "metadata": {},
     "output_type": "execute_result"
    }
   ],
   "source": [
    "df = pd.DataFrame(data)\n",
    "df"
   ]
  },
  {
   "cell_type": "code",
   "execution_count": 6,
   "metadata": {},
   "outputs": [],
   "source": [
    "q = \"\"\"\n",
    "SELECT *\n",
    "FROM df\n",
    "WHERE country = 'Zimbabwe'\n",
    "\"\"\""
   ]
  },
  {
   "cell_type": "code",
   "execution_count": 7,
   "metadata": {},
   "outputs": [
    {
     "data": {
      "text/html": [
       "<div>\n",
       "<style scoped>\n",
       "    .dataframe tbody tr th:only-of-type {\n",
       "        vertical-align: middle;\n",
       "    }\n",
       "\n",
       "    .dataframe tbody tr th {\n",
       "        vertical-align: top;\n",
       "    }\n",
       "\n",
       "    .dataframe thead th {\n",
       "        text-align: right;\n",
       "    }\n",
       "</style>\n",
       "<table border=\"1\" class=\"dataframe\">\n",
       "  <thead>\n",
       "    <tr style=\"text-align: right;\">\n",
       "      <th></th>\n",
       "      <th>name</th>\n",
       "      <th>address</th>\n",
       "      <th>email</th>\n",
       "      <th>phone_number</th>\n",
       "      <th>country</th>\n",
       "    </tr>\n",
       "  </thead>\n",
       "  <tbody>\n",
       "    <tr>\n",
       "      <th>0</th>\n",
       "      <td>Holly O'Connor</td>\n",
       "      <td>Studio 53\\nO'Neill creek\\nNew Bryanland\\nL4E 7XN</td>\n",
       "      <td>jameslinda@example.org</td>\n",
       "      <td>(0161) 496 0152</td>\n",
       "      <td>Zimbabwe</td>\n",
       "    </tr>\n",
       "  </tbody>\n",
       "</table>\n",
       "</div>"
      ],
      "text/plain": [
       "             name                                           address  \\\n",
       "0  Holly O'Connor  Studio 53\\nO'Neill creek\\nNew Bryanland\\nL4E 7XN   \n",
       "\n",
       "                    email     phone_number   country  \n",
       "0  jameslinda@example.org  (0161) 496 0152  Zimbabwe  "
      ]
     },
     "execution_count": 7,
     "metadata": {},
     "output_type": "execute_result"
    }
   ],
   "source": [
    "test = sqldf(q)\n",
    "test"
   ]
  },
  {
   "cell_type": "code",
   "execution_count": null,
   "metadata": {},
   "outputs": [],
   "source": []
  }
 ],
 "metadata": {
  "kernelspec": {
   "display_name": "e-commerce-S9g6Jxv1-py3.10",
   "language": "python",
   "name": "python3"
  },
  "language_info": {
   "codemirror_mode": {
    "name": "ipython",
    "version": 3
   },
   "file_extension": ".py",
   "mimetype": "text/x-python",
   "name": "python",
   "nbconvert_exporter": "python",
   "pygments_lexer": "ipython3",
   "version": "3.10.12"
  },
  "orig_nbformat": 4
 },
 "nbformat": 4,
 "nbformat_minor": 2
}
